{
  "nbformat_minor": 1, 
  "nbformat": 4, 
  "cells": [
    {
      "source": [
        "# summarize the data\n", 
        "from pandas import read_csv\n", 
        "# Load dataset\n", 
        "url = \"https://raw.githubusercontent.com/jbrownlee/Datasets/master/iris.csv\"\n", 
        "names = ['sepal-length', 'sepal-width', 'petal-length', 'petal-width', 'class']\n", 
        "dataset = read_csv(url, names=names)\n", 
        "# shape\n", 
        "print(dataset.shape)\n", 
        "# head\n", 
        "print(dataset.head(20))\n", 
        "# descriptions\n", 
        "print(dataset.describe())\n", 
        "# class distribution\n", 
        "print(dataset.groupby('class').size())"
      ], 
      "cell_type": "code", 
      "execution_count": null, 
      "outputs": [], 
      "metadata": {}
    }
  ], 
  "metadata": {
    "kernelspec": {
      "display_name": "Python 3", 
      "name": "python3", 
      "language": "python"
    }, 
    "language_info": {
      "mimetype": "text/x-python", 
      "nbconvert_exporter": "python", 
      "name": "python", 
      "file_extension": ".py", 
      "version": "3.6.1", 
      "pygments_lexer": "ipython3", 
      "codemirror_mode": {
        "version": 3, 
        "name": "ipython"
      }
    }, 
    "anaconda-cloud": {}
  }
}