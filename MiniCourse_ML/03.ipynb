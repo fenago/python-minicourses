{
  "nbformat_minor": 1, 
  "nbformat": 4, 
  "cells": [
    {
      "source": [
        "# compare algorithms\n", 
        "from pandas import read_csv\n", 
        "# %notebook inline\n", 
        "from matplotlib import pyplot\n", 
        "from sklearn.model_selection import train_test_split\n", 
        "from sklearn.model_selection import cross_val_score\n", 
        "from sklearn.model_selection import StratifiedKFold\n", 
        "from sklearn.linear_model import LogisticRegression\n", 
        "from sklearn.tree import DecisionTreeClassifier\n", 
        "from sklearn.neighbors import KNeighborsClassifier\n", 
        "from sklearn.discriminant_analysis import LinearDiscriminantAnalysis\n", 
        "from sklearn.naive_bayes import GaussianNB\n", 
        "from sklearn.svm import SVC\n", 
        "import warnings\n", 
        "warnings.simplefilter(\"ignore\")\n", 
        "# Load dataset\n", 
        "url = \"https://raw.githubusercontent.com/jbrownlee/Datasets/master/iris.csv\"\n", 
        "names = ['sepal-length', 'sepal-width', 'petal-length', 'petal-width', 'class']\n", 
        "dataset = read_csv(url, names=names)\n", 
        "# Split-out validation dataset\n", 
        "array = dataset.values\n", 
        "X = array[:,0:4]\n", 
        "y = array[:,4]\n", 
        "X_train, X_validation, Y_train, Y_validation = train_test_split(X, y, test_size=0.20, random_state=1, shuffle=True)\n", 
        "# Spot Check Algorithms\n", 
        "models = []\n", 
        "models.append(('LR', LogisticRegression(solver='liblinear', multi_class='ovr')))\n", 
        "models.append(('LDA', LinearDiscriminantAnalysis()))\n", 
        "models.append(('KNN', KNeighborsClassifier()))\n", 
        "models.append(('CART', DecisionTreeClassifier()))\n", 
        "models.append(('NB', GaussianNB()))\n", 
        "models.append(('SVM', SVC(gamma='auto')))\n", 
        "# evaluate each model in turn\n", 
        "results = []\n", 
        "names = []\n", 
        "for name, model in models:\n", 
        "\tkfold = StratifiedKFold(n_splits=10, random_state=1)\n", 
        "\tcv_results = cross_val_score(model, X_train, Y_train, cv=kfold, scoring='accuracy')\n", 
        "\tresults.append(cv_results)\n", 
        "\tnames.append(name)\n", 
        "\tprint('%s: %f (%f)' % (name, cv_results.mean(), cv_results.std()))\n", 
        "# Compare Algorithms\n", 
        "pyplot.boxplot(results, labels=names)\n", 
        "pyplot.title('Algorithm Comparison')\n", 
        "pyplot.show()\n", 
        "pyplot.show()"
      ], 
      "cell_type": "code", 
      "execution_count": null, 
      "outputs": [], 
      "metadata": {}
    }
  ], 
  "metadata": {
    "kernelspec": {
      "display_name": "Python 3", 
      "name": "python3", 
      "language": "python"
    }, 
    "language_info": {
      "mimetype": "text/x-python", 
      "nbconvert_exporter": "python", 
      "name": "python", 
      "file_extension": ".py", 
      "version": "3.6.1", 
      "pygments_lexer": "ipython3", 
      "codemirror_mode": {
        "version": 3, 
        "name": "ipython"
      }
    }, 
    "anaconda-cloud": {}
  }
}