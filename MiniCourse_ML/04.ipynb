{
  "nbformat_minor": 1, 
  "nbformat": 4, 
  "cells": [
    {
      "source": [
        "# make predictions\n", 
        "from pandas import read_csv\n", 
        "from sklearn.model_selection import train_test_split\n", 
        "from sklearn.metrics import classification_report\n", 
        "from sklearn.metrics import confusion_matrix\n", 
        "from sklearn.metrics import accuracy_score\n", 
        "from sklearn.svm import SVC\n", 
        "import warnings\n", 
        "warnings.simplefilter(\"ignore\")\n", 
        "# Load dataset\n", 
        "url = \"https://raw.githubusercontent.com/jbrownlee/Datasets/master/iris.csv\"\n", 
        "names = ['sepal-length', 'sepal-width', 'petal-length', 'petal-width', 'class']\n", 
        "dataset = read_csv(url, names=names)\n", 
        "# Split-out validation dataset\n", 
        "array = dataset.values\n", 
        "X = array[:,0:4]\n", 
        "y = array[:,4]\n", 
        "X_train, X_validation, Y_train, Y_validation = train_test_split(X, y, test_size=0.20, random_state=1)\n", 
        "# Make predictions on validation dataset\n", 
        "model = SVC(gamma='auto')\n", 
        "model.fit(X_train, Y_train)\n", 
        "predictions = model.predict(X_validation)\n", 
        "# Evaluate predictions\n", 
        "print(accuracy_score(Y_validation, predictions))\n", 
        "print(confusion_matrix(Y_validation, predictions))\n", 
        "print(classification_report(Y_validation, predictions))"
      ], 
      "cell_type": "code", 
      "execution_count": null, 
      "outputs": [], 
      "metadata": {}
    }
  ], 
  "metadata": {
    "kernelspec": {
      "display_name": "Python 3", 
      "name": "python3", 
      "language": "python"
    }, 
    "language_info": {
      "mimetype": "text/x-python", 
      "nbconvert_exporter": "python", 
      "name": "python", 
      "file_extension": ".py", 
      "version": "3.6.1", 
      "pygments_lexer": "ipython3", 
      "codemirror_mode": {
        "version": 3, 
        "name": "ipython"
      }
    }, 
    "anaconda-cloud": {}
  }
}