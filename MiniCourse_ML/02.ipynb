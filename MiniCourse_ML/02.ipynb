{
  "nbformat_minor": 1, 
  "nbformat": 4, 
  "cells": [
    {
      "source": [
        "# visualize the data\n", 
        "from pandas import read_csv\n", 
        "from pandas.plotting import scatter_matrix\n", 
        "%notebook inline\n", 
        "from matplotlib import pyplot\n", 
        "# Load dataset\n", 
        "url = \"https://raw.githubusercontent.com/jbrownlee/Datasets/master/iris.csv\"\n", 
        "names = ['sepal-length', 'sepal-width', 'petal-length', 'petal-width', 'class']\n", 
        "dataset = read_csv(url, names=names)\n", 
        "# box and whisker plots\n", 
        "dataset.plot(kind='box', subplots=True, layout=(2,2), sharex=False, sharey=False)\n", 
        "pyplot.show()\n", 
        "# histograms\n", 
        "dataset.hist()\n", 
        "pyplot.show()\n", 
        "# scatter plot matrix\n", 
        "scatter_matrix(dataset)\n", 
        "pyplot.show()"
      ], 
      "cell_type": "code", 
      "execution_count": null, 
      "outputs": [], 
      "metadata": {}
    }
  ], 
  "metadata": {
    "kernelspec": {
      "display_name": "Python 3", 
      "name": "python3", 
      "language": "python"
    }, 
    "language_info": {
      "mimetype": "text/x-python", 
      "nbconvert_exporter": "python", 
      "name": "python", 
      "file_extension": ".py", 
      "version": "3.6.1", 
      "pygments_lexer": "ipython3", 
      "codemirror_mode": {
        "version": 3, 
        "name": "ipython"
      }
    }, 
    "anaconda-cloud": {}
  }
}