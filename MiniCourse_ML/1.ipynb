{
  "nbformat_minor": 1, 
  "nbformat": 4, 
  "cells": [
    {
      "source": [
        "# Python version\n", 
        "import sys\n", 
        "print('Python: {}'.format(sys.version))\n", 
        "# scipy\n", 
        "import scipy\n", 
        "print('scipy: {}'.format(scipy.__version__))\n", 
        "# numpy\n", 
        "import numpy\n", 
        "print('numpy: {}'.format(numpy.__version__))\n", 
        "# matplotlib\n", 
        "import matplotlib\n", 
        "print('matplotlib: {}'.format(matplotlib.__version__))\n", 
        "# pandas\n", 
        "import pandas\n", 
        "print('pandas: {}'.format(pandas.__version__))\n", 
        "# scikit-learn\n", 
        "import sklearn\n", 
        "print('sklearn: {}'.format(sklearn.__version__))"
      ], 
      "cell_type": "code", 
      "execution_count": null, 
      "outputs": [], 
      "metadata": {}
    }
  ], 
  "metadata": {
    "kernelspec": {
      "display_name": "Python 3", 
      "name": "python3", 
      "language": "python"
    }, 
    "language_info": {
      "mimetype": "text/x-python", 
      "nbconvert_exporter": "python", 
      "name": "python", 
      "file_extension": ".py", 
      "version": "3.6.1", 
      "pygments_lexer": "ipython3", 
      "codemirror_mode": {
        "version": 3, 
        "name": "ipython"
      }
    }, 
    "anaconda-cloud": {}
  }
}