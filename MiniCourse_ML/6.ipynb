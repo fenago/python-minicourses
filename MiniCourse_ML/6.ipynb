{
  "nbformat_minor": 1, 
  "nbformat": 4, 
  "cells": [
    {
      "source": [
        "# Standardize data (0 mean, 1 stdev)\n", 
        "from sklearn.preprocessing import StandardScaler\n", 
        "import pandas\n", 
        "import numpy\n", 
        "url = \"https://raw.githubusercontent.com/jbrownlee/Datasets/master/pima-indians-diabetes.data.csv\"\n", 
        "names = ['preg', 'plas', 'pres', 'skin', 'test', 'mass', 'pedi', 'age', 'class']\n", 
        "dataframe = pandas.read_csv(url, names=names)\n", 
        "array = dataframe.values\n", 
        "# separate array into input and output components\n", 
        "X = array[:,0:8]\n", 
        "Y = array[:,8]\n", 
        "scaler = StandardScaler().fit(X)\n", 
        "rescaledX = scaler.transform(X)\n", 
        "# summarize transformed data\n", 
        "numpy.set_printoptions(precision=3)\n", 
        "print(rescaledX[0:5,:])"
      ], 
      "cell_type": "code", 
      "execution_count": null, 
      "outputs": [], 
      "metadata": {}
    }
  ], 
  "metadata": {
    "kernelspec": {
      "display_name": "Python 3", 
      "name": "python3", 
      "language": "python"
    }, 
    "language_info": {
      "mimetype": "text/x-python", 
      "nbconvert_exporter": "python", 
      "name": "python", 
      "file_extension": ".py", 
      "version": "3.6.1", 
      "pygments_lexer": "ipython3", 
      "codemirror_mode": {
        "version": 3, 
        "name": "ipython"
      }
    }, 
    "anaconda-cloud": {}
  }
}