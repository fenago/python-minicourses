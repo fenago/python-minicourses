{
  "nbformat_minor": 1, 
  "nbformat": 4, 
  "cells": [
    {
      "source": [
        "# Grid Search for Algorithm Tuning\n", 
        "from pandas import read_csv\n", 
        "import numpy\n", 
        "from sklearn.linear_model import Ridge\n", 
        "from sklearn.model_selection import GridSearchCV\n", 
        "import warnings\n", 
        "warnings.simplefilter(\"ignore\")\n", 
        "\n", 
        "\n", 
        "url = \"https://raw.githubusercontent.com/jbrownlee/Datasets/master/pima-indians-diabetes.data.csv\"\n", 
        "names = ['preg', 'plas', 'pres', 'skin', 'test', 'mass', 'pedi', 'age', 'class']\n", 
        "dataframe = read_csv(url, names=names)\n", 
        "array = dataframe.values\n", 
        "X = array[:,0:8]\n", 
        "Y = array[:,8]\n", 
        "alphas = numpy.array([1,0.1,0.01,0.001,0.0001,0])\n", 
        "param_grid = dict(alpha=alphas)\n", 
        "model = Ridge()\n", 
        "grid = GridSearchCV(estimator=model, param_grid=param_grid, cv=3)\n", 
        "grid.fit(X, Y)\n", 
        "print(grid.best_score_)\n", 
        "print(grid.best_estimator_.alpha)"
      ], 
      "cell_type": "code", 
      "execution_count": null, 
      "outputs": [], 
      "metadata": {}
    }
  ], 
  "metadata": {
    "kernelspec": {
      "display_name": "Python 3", 
      "name": "python3", 
      "language": "python"
    }, 
    "language_info": {
      "mimetype": "text/x-python", 
      "nbconvert_exporter": "python", 
      "name": "python", 
      "file_extension": ".py", 
      "version": "3.6.1", 
      "pygments_lexer": "ipython3", 
      "codemirror_mode": {
        "version": 3, 
        "name": "ipython"
      }
    }, 
    "anaconda-cloud": {}
  }
}