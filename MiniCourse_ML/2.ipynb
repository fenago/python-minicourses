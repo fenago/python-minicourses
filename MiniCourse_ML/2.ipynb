{
  "nbformat_minor": 1, 
  "nbformat": 4, 
  "cells": [
    {
      "source": [
        "# dataframe\n", 
        "import numpy\n", 
        "import pandas\n", 
        "myarray = numpy.array([[1, 2, 3], [4, 5, 6]])\n", 
        "rownames = ['a', 'b']\n", 
        "colnames = ['one', 'two', 'three']\n", 
        "mydataframe = pandas.DataFrame(myarray, index=rownames, columns=colnames)\n", 
        "print(mydataframe)"
      ], 
      "cell_type": "code", 
      "execution_count": null, 
      "outputs": [], 
      "metadata": {}
    }
  ], 
  "metadata": {
    "kernelspec": {
      "display_name": "Python 3", 
      "name": "python3", 
      "language": "python"
    }, 
    "language_info": {
      "mimetype": "text/x-python", 
      "nbconvert_exporter": "python", 
      "name": "python", 
      "file_extension": ".py", 
      "version": "3.6.1", 
      "pygments_lexer": "ipython3", 
      "codemirror_mode": {
        "version": 3, 
        "name": "ipython"
      }
    }, 
    "anaconda-cloud": {}
  }
}