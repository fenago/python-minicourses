{
  "nbformat_minor": 1, 
  "nbformat": 4, 
  "cells": [
    {
      "source": [
        "# KNN Regression\n", 
        "from pandas import read_csv\n", 
        "from sklearn.model_selection import KFold\n", 
        "from sklearn.model_selection import cross_val_score\n", 
        "from sklearn.neighbors import KNeighborsRegressor\n", 
        "import warnings\n", 
        "warnings.simplefilter(\"ignore\")\n", 
        "\n", 
        "\n", 
        "url = \"https://raw.githubusercontent.com/jbrownlee/Datasets/master/housing.data\"\n", 
        "names = ['CRIM', 'ZN', 'INDUS', 'CHAS', 'NOX', 'RM', 'AGE', 'DIS', 'RAD', 'TAX', 'PTRATIO', 'B', 'LSTAT', 'MEDV']\n", 
        "dataframe = read_csv(url, delim_whitespace=True, names=names)\n", 
        "array = dataframe.values\n", 
        "X = array[:,0:13]\n", 
        "Y = array[:,13]\n", 
        "kfold = KFold(n_splits=10, random_state=7)\n", 
        "model = KNeighborsRegressor()\n", 
        "scoring = 'neg_mean_squared_error'\n", 
        "results = cross_val_score(model, X, Y, cv=kfold, scoring=scoring)\n", 
        "print(results.mean())"
      ], 
      "cell_type": "code", 
      "execution_count": null, 
      "outputs": [], 
      "metadata": {}
    }
  ], 
  "metadata": {
    "kernelspec": {
      "display_name": "Python 3", 
      "name": "python3", 
      "language": "python"
    }, 
    "language_info": {
      "mimetype": "text/x-python", 
      "nbconvert_exporter": "python", 
      "name": "python", 
      "file_extension": ".py", 
      "version": "3.6.1", 
      "pygments_lexer": "ipython3", 
      "codemirror_mode": {
        "version": 3, 
        "name": "ipython"
      }
    }, 
    "anaconda-cloud": {}
  }
}