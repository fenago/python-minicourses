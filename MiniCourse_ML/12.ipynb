{
  "nbformat_minor": 1, 
  "nbformat": 4, 
  "cells": [
    {
      "source": [
        "# Random Forest Classification\n", 
        "from pandas import read_csv\n", 
        "from sklearn.model_selection import KFold\n", 
        "from sklearn.model_selection import cross_val_score\n", 
        "from sklearn.ensemble import RandomForestClassifier\n", 
        "url = \"https://raw.githubusercontent.com/jbrownlee/Datasets/master/pima-indians-diabetes.data.csv\"\n", 
        "names = ['preg', 'plas', 'pres', 'skin', 'test', 'mass', 'pedi', 'age', 'class']\n", 
        "dataframe = read_csv(url, names=names)\n", 
        "array = dataframe.values\n", 
        "X = array[:,0:8]\n", 
        "Y = array[:,8]\n", 
        "num_trees = 100\n", 
        "max_features = 3\n", 
        "kfold = KFold(n_splits=10, random_state=7)\n", 
        "model = RandomForestClassifier(n_estimators=num_trees, max_features=max_features)\n", 
        "results = cross_val_score(model, X, Y, cv=kfold)\n", 
        "print(results.mean())"
      ], 
      "cell_type": "code", 
      "execution_count": null, 
      "outputs": [], 
      "metadata": {}
    }
  ], 
  "metadata": {
    "kernelspec": {
      "display_name": "Python 3", 
      "name": "python3", 
      "language": "python"
    }, 
    "language_info": {
      "mimetype": "text/x-python", 
      "nbconvert_exporter": "python", 
      "name": "python", 
      "file_extension": ".py", 
      "version": "3.6.1", 
      "pygments_lexer": "ipython3", 
      "codemirror_mode": {
        "version": 3, 
        "name": "ipython"
      }
    }, 
    "anaconda-cloud": {}
  }
}