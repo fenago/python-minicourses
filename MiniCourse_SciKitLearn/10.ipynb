{
  "nbformat_minor": 1, 
  "nbformat": 4, 
  "cells": [
    {
      "source": [
        "from sklearn.datasets import make_circles\n", 
        "# %notebook inline\n", 
        "from matplotlib import pyplot\n", 
        "from pandas import DataFrame\n", 
        "# generate 2d classification dataset\n", 
        "X, y = make_circles(n_samples=100, noise=0.05)\n", 
        "# scatter plot, dots colored by class value\n", 
        "df = DataFrame(dict(x=X[:,0], y=X[:,1], label=y))\n", 
        "colors = {0:'red', 1:'blue'}\n", 
        "fig, ax = pyplot.subplots()\n", 
        "grouped = df.groupby('label')\n", 
        "for key, group in grouped:\n", 
        "    group.plot(ax=ax, kind='scatter', x='x', y='y', label=key, color=colors[key])\n", 
        "pyplot.show()
pyplot.show()"
      ], 
      "cell_type": "code", 
      "execution_count": null, 
      "outputs": [], 
      "metadata": {}
    }
  ], 
  "metadata": {
    "kernelspec": {
      "display_name": "Python 3", 
      "name": "python3", 
      "language": "python"
    }, 
    "language_info": {
      "mimetype": "text/x-python", 
      "nbconvert_exporter": "python", 
      "name": "python", 
      "file_extension": ".py", 
      "version": "3.6.1", 
      "pygments_lexer": "ipython3", 
      "codemirror_mode": {
        "version": 3, 
        "name": "ipython"
      }
    }, 
    "anaconda-cloud": {}
  }
}