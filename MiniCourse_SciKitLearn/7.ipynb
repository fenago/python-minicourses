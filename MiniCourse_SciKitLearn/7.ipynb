{
  "nbformat_minor": 1, 
  "nbformat": 4, 
  "cells": [
    {
      "source": [
        "# Compare Algorithms\n", 
        "import pandas\n", 
        "# %notebook inline\n", 
        "import matplotlib.pyplot as plt\n", 
        "from sklearn import model_selection\n", 
        "from sklearn.linear_model import LogisticRegression\n", 
        "from sklearn.tree import DecisionTreeClassifier\n", 
        "from sklearn.neighbors import KNeighborsClassifier\n", 
        "from sklearn.discriminant_analysis import LinearDiscriminantAnalysis\n", 
        "from sklearn.naive_bayes import GaussianNB\n", 
        "from sklearn.svm import SVC\n", 
        "import warnings\n", 
        "warnings.simplefilter(\"ignore\")\n", 
        "\n", 
        "# load dataset\n", 
        "url = \"https://raw.githubusercontent.com/jbrownlee/Datasets/master/pima-indians-diabetes.data.csv\"\n", 
        "names = ['preg', 'plas', 'pres', 'skin', 'test', 'mass', 'pedi', 'age', 'class']\n", 
        "dataframe = pandas.read_csv(url, names=names)\n", 
        "array = dataframe.values\n", 
        "X = array[:,0:8]\n", 
        "Y = array[:,8]\n", 
        "# prepare configuration for cross validation test harness\n", 
        "seed = 7\n", 
        "# prepare models\n", 
        "models = []\n", 
        "models.append(('LR', LogisticRegression()))\n", 
        "models.append(('LDA', LinearDiscriminantAnalysis()))\n", 
        "models.append(('KNN', KNeighborsClassifier()))\n", 
        "models.append(('CART', DecisionTreeClassifier()))\n", 
        "models.append(('NB', GaussianNB()))\n", 
        "models.append(('SVM', SVC()))\n", 
        "# evaluate each model in turn\n", 
        "results = []\n", 
        "names = []\n", 
        "scoring = 'accuracy'\n", 
        "for name, model in models:\n", 
        "\tkfold = model_selection.KFold(n_splits=10, random_state=seed)\n", 
        "\tcv_results = model_selection.cross_val_score(model, X, Y, cv=kfold, scoring=scoring)\n", 
        "\tresults.append(cv_results)\n", 
        "\tnames.append(name)\n", 
        "\tmsg = \"%s: %f (%f)\" % (name, cv_results.mean(), cv_results.std())\n", 
        "\tprint(msg)\n", 
        "# boxplot algorithm comparison\n", 
        "fig = plt.figure()\n", 
        "fig.suptitle('Algorithm Comparison')\n", 
        "ax = fig.add_subplot(111)\n", 
        "plt.boxplot(results)\n", 
        "ax.set_xticklabels(names)\n", 
        "plt.show()"
      ], 
      "cell_type": "code", 
      "execution_count": null, 
      "outputs": [], 
      "metadata": {}
    }
  ], 
  "metadata": {
    "kernelspec": {
      "display_name": "Python 3", 
      "name": "python3", 
      "language": "python"
    }, 
    "language_info": {
      "mimetype": "text/x-python", 
      "nbconvert_exporter": "python", 
      "name": "python", 
      "file_extension": ".py", 
      "version": "3.6.1", 
      "pygments_lexer": "ipython3", 
      "codemirror_mode": {
        "version": 3, 
        "name": "ipython"
      }
    }, 
    "anaconda-cloud": {}
  }
}