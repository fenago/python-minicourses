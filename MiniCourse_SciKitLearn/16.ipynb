{
  "nbformat_minor": 1, 
  "nbformat": 4, 
  "cells": [
    {
      "source": [
        "# example of making multiple probability predictions\n", 
        "from sklearn.linear_model import LogisticRegression\n", 
        "from sklearn.datasets import make_blobs\n", 
        "# generate 2d classification dataset\n", 
        "X, y = make_blobs(n_samples=100, centers=2, n_features=2, random_state=1)\n", 
        "# fit final model\n", 
        "model = LogisticRegression()\n", 
        "model.fit(X, y)\n", 
        "# new instances where we do not know the answer\n", 
        "Xnew, _ = make_blobs(n_samples=3, centers=2, n_features=2, random_state=1)\n", 
        "# make a prediction\n", 
        "ynew = model.predict_proba(Xnew)\n", 
        "# show the inputs and predicted probabilities\n", 
        "for i in range(len(Xnew)):\n", 
        "\tprint(\"X=%s, Predicted=%s\" % (Xnew[i], ynew[i]))"
      ], 
      "cell_type": "code", 
      "execution_count": null, 
      "outputs": [], 
      "metadata": {}
    }
  ], 
  "metadata": {
    "kernelspec": {
      "display_name": "Python 3", 
      "name": "python3", 
      "language": "python"
    }, 
    "language_info": {
      "mimetype": "text/x-python", 
      "nbconvert_exporter": "python", 
      "name": "python", 
      "file_extension": ".py", 
      "version": "3.6.1", 
      "pygments_lexer": "ipython3", 
      "codemirror_mode": {
        "version": 3, 
        "name": "ipython"
      }
    }, 
    "anaconda-cloud": {}
  }
}