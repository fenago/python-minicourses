{
  "nbformat_minor": 1, 
  "nbformat": 4, 
  "cells": [
    {
      "source": [
        "# example of training a final regression model\n", 
        "from sklearn.linear_model import LinearRegression\n", 
        "from sklearn.datasets import make_regression\n", 
        "# generate regression dataset\n", 
        "X, y = make_regression(n_samples=100, n_features=2, noise=0.1, random_state=1)\n", 
        "# fit final model\n", 
        "model = LinearRegression()\n", 
        "model.fit(X, y)"
      ], 
      "cell_type": "code", 
      "execution_count": null, 
      "outputs": [], 
      "metadata": {}
    }
  ], 
  "metadata": {
    "kernelspec": {
      "display_name": "Python 3", 
      "name": "python3", 
      "language": "python"
    }, 
    "language_info": {
      "mimetype": "text/x-python", 
      "nbconvert_exporter": "python", 
      "name": "python", 
      "file_extension": ".py", 
      "version": "3.6.1", 
      "pygments_lexer": "ipython3", 
      "codemirror_mode": {
        "version": 3, 
        "name": "ipython"
      }
    }, 
    "anaconda-cloud": {}
  }
}