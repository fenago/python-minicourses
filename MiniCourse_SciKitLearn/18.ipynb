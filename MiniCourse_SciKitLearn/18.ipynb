{
  "nbformat_minor": 1, 
  "nbformat": 4, 
  "cells": [
    {
      "source": [
        "# example of training a final regression model\n", 
        "from sklearn.linear_model import LinearRegression\n", 
        "from sklearn.datasets import make_regression\n", 
        "# generate regression dataset\n", 
        "X, y = make_regression(n_samples=100, n_features=2, noise=0.1)\n", 
        "# fit final model\n", 
        "model = LinearRegression()\n", 
        "model.fit(X, y)\n", 
        "# new instances where we do not know the answer\n", 
        "Xnew, _ = make_regression(n_samples=3, n_features=2, noise=0.1, random_state=1)\n", 
        "# make a prediction\n", 
        "ynew = model.predict(Xnew)\n", 
        "# show the inputs and predicted outputs\n", 
        "for i in range(len(Xnew)):\n", 
        "\tprint(\"X=%s, Predicted=%s\" % (Xnew[i], ynew[i]))"
      ], 
      "cell_type": "code", 
      "execution_count": null, 
      "outputs": [], 
      "metadata": {}
    }
  ], 
  "metadata": {
    "kernelspec": {
      "display_name": "Python 3", 
      "name": "python3", 
      "language": "python"
    }, 
    "language_info": {
      "mimetype": "text/x-python", 
      "nbconvert_exporter": "python", 
      "name": "python", 
      "file_extension": ".py", 
      "version": "3.6.1", 
      "pygments_lexer": "ipython3", 
      "codemirror_mode": {
        "version": 3, 
        "name": "ipython"
      }
    }, 
    "anaconda-cloud": {}
  }
}