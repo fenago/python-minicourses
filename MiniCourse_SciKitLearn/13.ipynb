{
  "nbformat_minor": 1, 
  "nbformat": 4, 
  "cells": [
    {
      "source": [
        "# example of training a final classification model\n", 
        "from sklearn.linear_model import LogisticRegression\n", 
        "from sklearn.datasets import make_blobs\n", 
        "# generate 2d classification dataset\n", 
        "X, y = make_blobs(n_samples=100, centers=2, n_features=2, random_state=1)\n", 
        "# fit final model\n", 
        "model = LogisticRegression()\n", 
        "model.fit(X, y)"
      ], 
      "cell_type": "code", 
      "execution_count": null, 
      "outputs": [], 
      "metadata": {}
    }
  ], 
  "metadata": {
    "kernelspec": {
      "display_name": "Python 3", 
      "name": "python3", 
      "language": "python"
    }, 
    "language_info": {
      "mimetype": "text/x-python", 
      "nbconvert_exporter": "python", 
      "name": "python", 
      "file_extension": ".py", 
      "version": "3.6.1", 
      "pygments_lexer": "ipython3", 
      "codemirror_mode": {
        "version": 3, 
        "name": "ipython"
      }
    }, 
    "anaconda-cloud": {}
  }
}