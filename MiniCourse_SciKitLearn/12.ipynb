{
  "nbformat_minor": 1, 
  "nbformat": 4, 
  "cells": [
    {
      "source": [
        "# Load the Pima Indians diabetes dataset from CSV URL\n", 
        "import numpy as np\n", 
        "import urllib\n", 
        "# URL for the Pima Indians Diabetes dataset (UCI Machine Learning Repository)\n", 
        "url = \"https://raw.githubusercontent.com/jbrownlee/Datasets/master/pima-indians-diabetes.data.csv\"\n", 
        "# download the file\n", 
        "raw_data = urllib.urlopen(url)\n", 
        "# load the CSV file as a numpy matrix\n", 
        "dataset = np.loadtxt(raw_data, delimiter=\",\")\n", 
        "print(dataset.shape)\n", 
        "# separate the data from the target attributes\n", 
        "X = dataset[:,0:7]\n", 
        "y = dataset[:,8]"
      ], 
      "cell_type": "code", 
      "execution_count": null, 
      "outputs": [], 
      "metadata": {}
    }
  ], 
  "metadata": {
    "kernelspec": {
      "display_name": "Python 3", 
      "name": "python3", 
      "language": "python"
    }, 
    "language_info": {
      "mimetype": "text/x-python", 
      "nbconvert_exporter": "python", 
      "name": "python", 
      "file_extension": ".py", 
      "version": "3.6.1", 
      "pygments_lexer": "ipython3", 
      "codemirror_mode": {
        "version": 3, 
        "name": "ipython"
      }
    }, 
    "anaconda-cloud": {}
  }
}