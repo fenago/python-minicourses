{
  "nbformat_minor": 1, 
  "nbformat": 4, 
  "cells": [
    {
      "source": [
        "# Decision Tree Classifier\n", 
        "from sklearn import datasets\n", 
        "from sklearn import metrics\n", 
        "from sklearn.tree import DecisionTreeClassifier\n", 
        "# load the iris datasets\n", 
        "dataset = datasets.load_iris()\n", 
        "# fit a CART model to the data\n", 
        "model = DecisionTreeClassifier()\n", 
        "model.fit(dataset.data, dataset.target)\n", 
        "print(model)\n", 
        "# make predictions\n", 
        "expected = dataset.target\n", 
        "predicted = model.predict(dataset.data)\n", 
        "# summarize the fit of the model\n", 
        "print(metrics.classification_report(expected, predicted))\n", 
        "print(metrics.confusion_matrix(expected, predicted))"
      ], 
      "cell_type": "code", 
      "execution_count": null, 
      "outputs": [], 
      "metadata": {}
    }
  ], 
  "metadata": {
    "kernelspec": {
      "display_name": "Python 3", 
      "name": "python3", 
      "language": "python"
    }, 
    "language_info": {
      "mimetype": "text/x-python", 
      "nbconvert_exporter": "python", 
      "name": "python", 
      "file_extension": ".py", 
      "version": "3.6.1", 
      "pygments_lexer": "ipython3", 
      "codemirror_mode": {
        "version": 3, 
        "name": "ipython"
      }
    }, 
    "anaconda-cloud": {}
  }
}