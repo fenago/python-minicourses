{
  "nbformat_minor": 1, 
  "nbformat": 4, 
  "cells": [
    {
      "source": [
        "from keras.models import Sequential\n", 
        "\n", 
        "from keras.layers import Dense\n", 
        "import tensorflow.python.util.deprecation as deprecation\n", 
        "deprecation._PRINT_DEPRECATION_WARNINGS = False\n", 
        "\n", 
        "import numpy\n", 
        "\n", 
        "# Load the dataset\n", 
        "\n", 
        "dataset = numpy.loadtxt(\"pima-indians-diabetes.csv\", delimiter=\",\")\n", 
        "\n", 
        "X = dataset[:,0:8]\n", 
        "\n", 
        "Y = dataset[:,8]\n", 
        "\n", 
        "# Define and Compile\n", 
        "\n", 
        "model = Sequential()\n", 
        "\n", 
        "model.add(Dense(12, input_dim=8, activation='relu'))\n", 
        "\n", 
        "model.add(Dense(8, activation='relu'))\n", 
        "\n", 
        "model.add(Dense(1, activation='sigmoid'))\n", 
        "\n", 
        "model.compile(loss='binary_crossentropy' , optimizer='adam', metrics=['accuracy'])\n", 
        "\n", 
        "# Fit the model\n", 
        "\n", 
        "model.fit(X, Y, epochs=150, batch_size=10)\n", 
        "\n", 
        "# Evaluate the model\n", 
        "\n", 
        "scores = model.evaluate(X, Y)\n", 
        "\n", 
        "print(\"%s: %.2f%%\" % (model.metrics_names[1], scores[1]*100))"
      ], 
      "cell_type": "code", 
      "execution_count": null, 
      "outputs": [], 
      "metadata": {}
    }
  ], 
  "metadata": {
    "kernelspec": {
      "display_name": "Python 3", 
      "name": "python3", 
      "language": "python"
    }, 
    "language_info": {
      "mimetype": "text/x-python", 
      "nbconvert_exporter": "python", 
      "name": "python", 
      "file_extension": ".py", 
      "version": "3.6.1", 
      "pygments_lexer": "ipython3", 
      "codemirror_mode": {
        "version": 3, 
        "name": "ipython"
      }
    }, 
    "anaconda-cloud": {}
  }
}