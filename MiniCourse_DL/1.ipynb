{
  "nbformat_minor": 1, 
  "nbformat": 4, 
  "cells": [
    {
      "source": [
        "import theano\n", 
        "\n", 
        "from theano import tensor\n", 
        "\n", 
        "# declare two symbolic floating-point scalars\n", 
        "\n", 
        "a = tensor.dscalar()\n", 
        "\n", 
        "b = tensor.dscalar()\n", 
        "\n", 
        "# create a simple expression\n", 
        "\n", 
        "c = a + b\n", 
        "\n", 
        "# convert the expression into a callable object that takes (a,b)\n", 
        "\n", 
        "# values as input and computes a value for c\n", 
        "\n", 
        "f = theano.function([a,b], c)\n", 
        "\n", 
        "# bind 1.5 to 'a', 2.5 to 'b', and evaluate 'c'\n", 
        "\n", 
        "result = f(1.5, 2.5)\n", 
        "\n", 
        "print(result)\n"
      ], 
      "cell_type": "code", 
      "execution_count": null, 
      "outputs": [], 
      "metadata": {}
    }
  ], 
  "metadata": {
    "kernelspec": {
      "display_name": "Python 3", 
      "name": "python3", 
      "language": "python"
    }, 
    "language_info": {
      "mimetype": "text/x-python", 
      "nbconvert_exporter": "python", 
      "name": "python", 
      "file_extension": ".py", 
      "version": "3.6.1", 
      "pygments_lexer": "ipython3", 
      "codemirror_mode": {
        "version": 3, 
        "name": "ipython"
      }
    }, 
    "anaconda-cloud": {}
  }
}