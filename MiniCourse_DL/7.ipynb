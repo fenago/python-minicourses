{
  "nbformat_minor": 1, 
  "nbformat": 4, 
  "cells": [
    {
      "source": [
        "# Random Rotations\n", 
        "from keras.datasets import mnist\n", 
        "from keras.preprocessing.image import ImageDataGenerator\n", 
        "%notebook inline\n", 
        "from matplotlib import pyplot\n", 
        "# load data\n", 
        "(X_train, y_train), (X_test, y_test) = mnist.load_data()\n", 
        "# reshape to be [samples][pixels][width][height]\n", 
        "X_train = X_train.reshape((X_train.shape[0], 28, 28, 1))\n", 
        "X_test = X_test.reshape((X_test.shape[0], 28, 28, 1))\n", 
        "# convert from int to float\n", 
        "X_train = X_train.astype('float32')\n", 
        "X_test = X_test.astype('float32')\n", 
        "# define data preparation\n", 
        "datagen = ImageDataGenerator(rotation_range=90)\n", 
        "# fit parameters from data\n", 
        "datagen.fit(X_train)\n", 
        "# configure batch size and retrieve one batch of images\n", 
        "for X_batch, y_batch in datagen.flow(X_train, y_train, batch_size=9):\n", 
        "\t# create a grid of 3 * 3 images\n", 
        "\tfor i in range(0, 9):\n", 
        "\t\tpyplot.subplot(330 + 1 + i)\n", 
        "\t\tpyplot.imshow(X_batch[i].reshape(28, 28), cmap=pyplot.get_cmap('gray'))\n", 
        "\t# show the plot\n", 
        "\tpyplot.show()\n", 
        "\tbreak"
      ], 
      "cell_type": "code", 
      "execution_count": null, 
      "outputs": [], 
      "metadata": {}
    }
  ], 
  "metadata": {
    "kernelspec": {
      "display_name": "Python 3", 
      "name": "python3", 
      "language": "python"
    }, 
    "language_info": {
      "mimetype": "text/x-python", 
      "nbconvert_exporter": "python", 
      "name": "python", 
      "file_extension": ".py", 
      "version": "3.6.1", 
      "pygments_lexer": "ipython3", 
      "codemirror_mode": {
        "version": 3, 
        "name": "ipython"
      }
    }, 
    "anaconda-cloud": {}
  }
}