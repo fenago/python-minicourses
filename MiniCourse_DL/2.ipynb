{
  "nbformat_minor": 1, 
  "nbformat": 4, 
  "cells": [
    {
      "source": [
        "import theano\n", 
        "from theano import tensor\n", 
        "\n", 
        "import tensorflow.python.util.deprecation as deprecation\n", 
        "deprecation._PRINT_DEPRECATION_WARNINGS = False\n", 
        "\n", 
        "# declare variables\n", 
        "x, y = tensor.dmatrices('x', 'y')\n", 
        "\n", 
        "# create simple expression for each operation\n", 
        "diff = x - y\n", 
        "\n", 
        "abs_diff = abs(diff)\n", 
        "diff_squared = diff**2\n", 
        "\n", 
        "# convert the expression into callable object\n", 
        "f = theano.function([x, y], [diff, abs_diff, diff_squared])\n", 
        "\n", 
        "# call the function and store the result in a variable\n", 
        "result= f([[1, 1], [1, 1]], [[0, 1], [2, 3]])\n", 
        "\n", 
        "# format print for readability\n", 
        "print('Difference: ')\n", 
        "print(result[0])\n", 
        "\n", 
        "print('Absolute Difference: ')\n", 
        "print(result[1])\n", 
        "\n", 
        "print('Squared Difference: ')\n", 
        "print(result[2])"
      ], 
      "cell_type": "code", 
      "execution_count": null, 
      "outputs": [], 
      "metadata": {}
    }
  ], 
  "metadata": {
    "kernelspec": {
      "display_name": "Python 3", 
      "name": "python3", 
      "language": "python"
    }, 
    "language_info": {
      "mimetype": "text/x-python", 
      "nbconvert_exporter": "python", 
      "name": "python", 
      "file_extension": ".py", 
      "version": "3.6.1", 
      "pygments_lexer": "ipython3", 
      "codemirror_mode": {
        "version": 3, 
        "name": "ipython"
      }
    }, 
    "anaconda-cloud": {}
  }
}