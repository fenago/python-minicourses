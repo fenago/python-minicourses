{
  "nbformat_minor": 1, 
  "nbformat": 4, 
  "cells": [
    {
      "source": [
        "# Example of TensorFlow library\n", 
        "\n", 
        "import tensorflow as tf\n", 
        "\n", 
        "import tensorflow.compat.v1 as tf\n", 
        "\n", 
        "tf.disable_v2_behavior()\n", 
        "\n", 
        "import tensorflow.python.util.deprecation as deprecation\n", 
        "deprecation._PRINT_DEPRECATION_WARNINGS = False\n", 
        "\n", 
        "# declare two symbolic floating-point scalars\n", 
        "\n", 
        "a = tf.placeholder(tf.float32)\n", 
        "\n", 
        "b = tf.placeholder(tf.float32)\n", 
        "\n", 
        "# create a simple symbolic expression using the add function\n", 
        "\n", 
        "add = tf.add(a, b)\n", 
        "\n", 
        "# bind 1.5 to 'a', 2.5 to 'b', and evaluate 'c'\n", 
        "\n", 
        "sess = tf.Session()\n", 
        "\n", 
        "binding = {a: 1.5, b: 2.5}\n", 
        "\n", 
        "c = sess.run(add, feed_dict=binding)\n", 
        "\n", 
        "print(c)"
      ], 
      "cell_type": "code", 
      "execution_count": null, 
      "outputs": [], 
      "metadata": {}
    }
  ], 
  "metadata": {
    "kernelspec": {
      "display_name": "Python 3", 
      "name": "python3", 
      "language": "python"
    }, 
    "language_info": {
      "mimetype": "text/x-python", 
      "nbconvert_exporter": "python", 
      "name": "python", 
      "file_extension": ".py", 
      "version": "3.6.1", 
      "pygments_lexer": "ipython3", 
      "codemirror_mode": {
        "version": 3, 
        "name": "ipython"
      }
    }, 
    "anaconda-cloud": {}
  }
}