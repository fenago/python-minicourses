{
  "nbformat_minor": 1, 
  "nbformat": 4, 
  "cells": [
    {
      "source": [
        "# example of a learning rate schedule\n", 
        "from sklearn.datasets import make_circles\n", 
        "from keras.layers import Dense\n", 
        "import tensorflow.python.util.deprecation as deprecation\n", 
        "deprecation._PRINT_DEPRECATION_WARNINGS = False\n", 
        "from keras.models import Sequential\n", 
        "from keras.optimizers import SGD\n", 
        "from keras.callbacks import ReduceLROnPlateau\n", 
        "%matplotlib inline\n", 
        "from matplotlib import pyplot\n", 
        "# generate dataset\n", 
        "X, y = make_circles(n_samples=1000, noise=0.1, random_state=1)\n", 
        "# split into train and test\n", 
        "n_train = 500\n", 
        "trainX, testX = X[:n_train, :], X[n_train:, :]\n", 
        "trainy, testy = y[:n_train], y[n_train:]\n", 
        "# define model\n", 
        "model = Sequential()\n", 
        "model.add(Dense(50, input_dim=2, activation='relu'))\n", 
        "model.add(Dense(1, activation='sigmoid'))\n", 
        "# compile model\n", 
        "opt = SGD(lr=0.01, momentum=0.9)\n", 
        "model.compile(loss='binary_crossentropy', optimizer=opt, metrics=['accuracy'])\n", 
        "# define learning rate schedule\n", 
        "rlrp = ReduceLROnPlateau(monitor='val_loss', factor=0.1, patience=5, min_delta=1E-7, verbose=1)\n", 
        "# fit model\n", 
        "history = model.fit(trainX, trainy, validation_data=(testX, testy), epochs=300, verbose=0, callbacks=[rlrp])\n", 
        "# evaluate the model\n", 
        "_, train_acc = model.evaluate(trainX, trainy, verbose=0)\n", 
        "_, test_acc = model.evaluate(testX, testy, verbose=0)\n", 
        "print('Train: %.3f, Test: %.3f' % (train_acc, test_acc))\n", 
        "# plot loss learning curves\n", 
        "pyplot.subplot(211)\n", 
        "pyplot.title('Cross-Entropy Loss', pad=-40)\n", 
        "pyplot.plot(history.history['loss'], label='train')\n", 
        "pyplot.plot(history.history['val_loss'], label='test')\n", 
        "pyplot.legend()\n", 
        "# plot accuracy learning curves\n", 
        "pyplot.subplot(212)\n", 
        "pyplot.title('Accuracy', pad=-40)\n", 
        "pyplot.plot(history.history['acc'], label='train')\n", 
        "pyplot.plot(history.history['val_acc'], label='test')\n", 
        "pyplot.legend()\n", 
        "pyplot.show()"
      ], 
      "cell_type": "code", 
      "execution_count": null, 
      "outputs": [], 
      "metadata": {}
    }
  ], 
  "metadata": {
    "kernelspec": {
      "display_name": "Python 3", 
      "name": "python3", 
      "language": "python"
    }, 
    "language_info": {
      "mimetype": "text/x-python", 
      "nbconvert_exporter": "python", 
      "name": "python", 
      "file_extension": ".py", 
      "version": "3.6.1", 
      "pygments_lexer": "ipython3", 
      "codemirror_mode": {
        "version": 3, 
        "name": "ipython"
      }
    }, 
    "anaconda-cloud": {}
  }
}