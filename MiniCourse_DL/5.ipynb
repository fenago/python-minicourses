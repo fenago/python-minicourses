{
  "nbformat_minor": 1, 
  "nbformat": 4, 
  "cells": [
    {
      "source": [
        "from keras.utils import plot_model\n", 
        "from keras.models import Model\n", 
        "from keras.layers import Input\n", 
        "from keras.layers import Dense\n", 
        "from keras.layers.convolutional import Conv2D\n", 
        "from keras.layers.pooling import MaxPooling2D\n", 
        "visible = Input(shape=(64,64,1))\n", 
        "conv1 = Conv2D(32, kernel_size=4, activation='relu')(visible)\n", 
        "pool1 = MaxPooling2D(pool_size=(2, 2))(conv1)\n", 
        "conv2 = Conv2D(16, kernel_size=4, activation='relu')(pool1)\n", 
        "pool2 = MaxPooling2D(pool_size=(2, 2))(conv2)\n", 
        "hidden1 = Dense(10, activation='relu')(pool2)\n", 
        "output = Dense(1, activation='sigmoid')(hidden1)\n", 
        "model = Model(inputs=visible, outputs=output)\n", 
        "# summarize layers\n", 
        "model.summary()"
      ], 
      "cell_type": "code", 
      "execution_count": null, 
      "outputs": [], 
      "metadata": {}
    }
  ], 
  "metadata": {
    "kernelspec": {
      "display_name": "Python 3", 
      "name": "python3", 
      "language": "python"
    }, 
    "language_info": {
      "mimetype": "text/x-python", 
      "nbconvert_exporter": "python", 
      "name": "python", 
      "file_extension": ".py", 
      "version": "3.6.1", 
      "pygments_lexer": "ipython3", 
      "codemirror_mode": {
        "version": 3, 
        "name": "ipython"
      }
    }, 
    "anaconda-cloud": {}
  }
}