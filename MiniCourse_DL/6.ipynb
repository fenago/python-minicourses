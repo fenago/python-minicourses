{
  "nbformat_minor": 1, 
  "nbformat": 4, 
  "cells": [
    {
      "source": [
        "from keras.datasets import cifar10\n", 
        "from keras.utils import np_utils\n", 
        "# load data\n", 
        "(X_train, y_train), (X_test, y_test) = cifar10.load_data()\n", 
        "# normalize inputs from 0-255 to 0.0-1.0\n", 
        "X_train = X_train.astype('float32') \n", 
        "X_test = X_test.astype('float32')\n", 
        "X_train = X_train / 255.0\n", 
        "X_test = X_test / 255.0\n", 
        "# one hot encode outputs\n", 
        "y_train = np_utils.to_categorical(y_train)\n", 
        "y_test = np_utils.to_categorical(y_test)"
      ], 
      "cell_type": "code", 
      "execution_count": null, 
      "outputs": [], 
      "metadata": {}
    }
  ], 
  "metadata": {
    "kernelspec": {
      "display_name": "Python 3", 
      "name": "python3", 
      "language": "python"
    }, 
    "language_info": {
      "mimetype": "text/x-python", 
      "nbconvert_exporter": "python", 
      "name": "python", 
      "file_extension": ".py", 
      "version": "3.6.1", 
      "pygments_lexer": "ipython3", 
      "codemirror_mode": {
        "version": 3, 
        "name": "ipython"
      }
    }, 
    "anaconda-cloud": {}
  }
}