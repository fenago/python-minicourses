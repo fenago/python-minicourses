{
  "nbformat_minor": 1, 
  "nbformat": 4, 
  "cells": [
    {
      "source": [
        "from keras.models import Sequential\n", 
        "from keras.layers import Dense\n", 
        "import tensorflow.python.util.deprecation as deprecation\n", 
        "deprecation._PRINT_DEPRECATION_WARNINGS = False\n", 
        "from keras.layers import Flatten\n", 
        "from keras.layers.embeddings import Embedding\n", 
        "# define problem\n", 
        "vocab_size = 100\n", 
        "max_length = 32\n", 
        "# define the model\n", 
        "model = Sequential()\n", 
        "model.add(Embedding(vocab_size, 8, input_length=max_length))\n", 
        "model.add(Flatten())\n", 
        "model.add(Dense(1, activation='sigmoid'))\n", 
        "# compile the model\n", 
        "model.compile(optimizer='adam', loss='binary_crossentropy', metrics=['accuracy'])\n", 
        "# summarize the model\n", 
        "print(model.summary())"
      ], 
      "cell_type": "code", 
      "execution_count": null, 
      "outputs": [], 
      "metadata": {}
    }
  ], 
  "metadata": {
    "kernelspec": {
      "display_name": "Python 3", 
      "name": "python3", 
      "language": "python"
    }, 
    "language_info": {
      "mimetype": "text/x-python", 
      "nbconvert_exporter": "python", 
      "name": "python", 
      "file_extension": ".py", 
      "version": "3.6.1", 
      "pygments_lexer": "ipython3", 
      "codemirror_mode": {
        "version": 3, 
        "name": "ipython"
      }
    }, 
    "anaconda-cloud": {}
  }
}