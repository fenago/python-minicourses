{
  "nbformat_minor": 1, 
  "nbformat": 4, 
  "cells": [
    {
      "source": [
        "from gensim.models import Word2Vec\n", 
        "# define training data\n", 
        "sentences = [['this', 'is', 'the', 'first', 'sentence', 'for', 'word2vec'],\n", 
        "\t\t\t['this', 'is', 'the', 'second', 'sentence'],\n", 
        "\t\t\t['yet', 'another', 'sentence'],\n", 
        "\t\t\t['one', 'more', 'sentence'],\n", 
        "\t\t\t['and', 'the', 'final', 'sentence']]\n", 
        "# train model\n", 
        "model = Word2Vec(sentences, min_count=1)\n", 
        "# summarize the loaded model\n", 
        "print(model)\n", 
        "# summarize vocabulary\n", 
        "words = list(model.wv.vocab)\n", 
        "print(words)\n", 
        "# access vector for one word\n", 
        "print(model['sentence'])"
      ], 
      "cell_type": "code", 
      "execution_count": null, 
      "outputs": [], 
      "metadata": {}
    }
  ], 
  "metadata": {
    "kernelspec": {
      "display_name": "Python 3", 
      "name": "python3", 
      "language": "python"
    }, 
    "language_info": {
      "mimetype": "text/x-python", 
      "nbconvert_exporter": "python", 
      "name": "python", 
      "file_extension": ".py", 
      "version": "3.6.1", 
      "pygments_lexer": "ipython3", 
      "codemirror_mode": {
        "version": 3, 
        "name": "ipython"
      }
    }, 
    "anaconda-cloud": {}
  }
}