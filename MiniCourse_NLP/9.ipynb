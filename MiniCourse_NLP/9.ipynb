{
  "nbformat_minor": 1, 
  "nbformat": 4, 
  "cells": [
    {
      "source": [
        "# define problem\n", 
        "vocab_size = 100\n", 
        "max_length = 200\n", 
        "# define model\n", 
        "model = Sequential()\n", 
        "model.add(Embedding(vocab_size, 100, input_length=max_length))\n", 
        "model.add(Conv1D(filters=32, kernel_size=8, activation='relu'))\n", 
        "model.add(MaxPooling1D(pool_size=2))\n", 
        "model.add(Flatten())\n", 
        "model.add(Dense(10, activation='relu'))\n", 
        "model.add(Dense(1, activation='sigmoid'))\n", 
        "print(model.summary())"
      ], 
      "cell_type": "code", 
      "execution_count": null, 
      "outputs": [], 
      "metadata": {}
    }
  ], 
  "metadata": {
    "kernelspec": {
      "display_name": "Python 3", 
      "name": "python3", 
      "language": "python"
    }, 
    "language_info": {
      "mimetype": "text/x-python", 
      "nbconvert_exporter": "python", 
      "name": "python", 
      "file_extension": ".py", 
      "version": "3.6.1", 
      "pygments_lexer": "ipython3", 
      "codemirror_mode": {
        "version": 3, 
        "name": "ipython"
      }
    }, 
    "anaconda-cloud": {}
  }
}