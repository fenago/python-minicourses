{
  "nbformat_minor": 1, 
  "nbformat": 4, 
  "cells": [
    {
      "source": [
        "from sklearn.feature_extraction.text import TfidfVectorizer\n", 
        "# list of text documents\n", 
        "text = [\"The quick brown fox jumped over the lazy dog.\",\n", 
        "\t\t\"The dog.\",\n", 
        "\t\t\"The fox\"]\n", 
        "# create the transform\n", 
        "vectorizer = TfidfVectorizer()\n", 
        "# tokenize and build vocab\n", 
        "vectorizer.fit(text)\n", 
        "# summarize\n", 
        "print(vectorizer.vocabulary_)\n", 
        "print(vectorizer.idf_)\n", 
        "# encode document\n", 
        "vector = vectorizer.transform([text[0]])\n", 
        "# summarize encoded vector\n", 
        "print(vector.shape)\n", 
        "print(vector.toarray())"
      ], 
      "cell_type": "code", 
      "execution_count": null, 
      "outputs": [], 
      "metadata": {}
    }
  ], 
  "metadata": {
    "kernelspec": {
      "display_name": "Python 3", 
      "name": "python3", 
      "language": "python"
    }, 
    "language_info": {
      "mimetype": "text/x-python", 
      "nbconvert_exporter": "python", 
      "name": "python", 
      "file_extension": ".py", 
      "version": "3.6.1", 
      "pygments_lexer": "ipython3", 
      "codemirror_mode": {
        "version": 3, 
        "name": "ipython"
      }
    }, 
    "anaconda-cloud": {}
  }
}