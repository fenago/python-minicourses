{
  "nbformat_minor": 1, 
  "nbformat": 4, 
  "cells": [
    {
      "source": [
        "from gensim.models import Word2Vec\n", 
        "from sklearn.decomposition import PCA\n", 
        "%notebook inline\n", 
        "from matplotlib import pyplot\n", 
        "# define training data\n", 
        "sentences = [['this', 'is', 'the', 'first', 'sentence', 'for', 'word2vec'],\n", 
        "\t\t\t['this', 'is', 'the', 'second', 'sentence'],\n", 
        "\t\t\t['yet', 'another', 'sentence'],\n", 
        "\t\t\t['one', 'more', 'sentence'],\n", 
        "\t\t\t['and', 'the', 'final', 'sentence']]\n", 
        "# train model\n", 
        "model = Word2Vec(sentences, min_count=1)\n", 
        "# fit a 2D PCA model to the vectors\n", 
        "X = model[model.wv.vocab]\n", 
        "pca = PCA(n_components=2)\n", 
        "result = pca.fit_transform(X)\n", 
        "# create a scatter plot of the projection\n", 
        "pyplot.scatter(result[:, 0], result[:, 1])\n", 
        "words = list(model.wv.vocab)\n", 
        "for i, word in enumerate(words):\n", 
        "\tpyplot.annotate(word, xy=(result[i, 0], result[i, 1]))\n", 
        "pyplot.show()"
      ], 
      "cell_type": "code", 
      "execution_count": null, 
      "outputs": [], 
      "metadata": {}
    }
  ], 
  "metadata": {
    "kernelspec": {
      "display_name": "Python 3", 
      "name": "python3", 
      "language": "python"
    }, 
    "language_info": {
      "mimetype": "text/x-python", 
      "nbconvert_exporter": "python", 
      "name": "python", 
      "file_extension": ".py", 
      "version": "3.6.1", 
      "pygments_lexer": "ipython3", 
      "codemirror_mode": {
        "version": 3, 
        "name": "ipython"
      }
    }, 
    "anaconda-cloud": {}
  }
}