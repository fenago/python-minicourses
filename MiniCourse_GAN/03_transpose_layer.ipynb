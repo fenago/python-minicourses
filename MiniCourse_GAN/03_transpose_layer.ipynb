{
  "nbformat_minor": 1, 
  "nbformat": 4, 
  "cells": [
    {
      "source": [
        "## Worked Example Using the Conv2DTranspose Layer\n", 
        "Keras provides the transpose convolution capability via the Conv2DTranspose layer. It can be\n", 
        "added to your model directly; for example:"
      ], 
      "cell_type": "markdown", 
      "metadata": {}
    }, 
    {
      "source": [
        "# example of using the transpose convolutional layer\n", 
        "from numpy import asarray\n", 
        "from keras.models import Sequential\n", 
        "from keras.layers import Conv2DTranspose\n", 
        "# define input data\n", 
        "X = asarray([[1, 2],\n", 
        "\t\t\t [3, 4]])\n", 
        "# show input data for context\n", 
        "print(X)\n", 
        "# reshape input data into one sample a sample with a channel\n", 
        "X = X.reshape((1, 2, 2, 1))"
      ], 
      "cell_type": "code", 
      "execution_count": null, 
      "outputs": [], 
      "metadata": {}
    }, 
    {
      "source": [
        "We can now define our model. The model has only the Conv2DTranspose layer, which\n", 
        "takes 2 \u00d7 2 grayscale images as input directly and outputs the result of the operation. The\n", 
        "Conv2DTranspose both upsamples and performs a convolution. As such, we must specify both\n", 
        "the number of filters and the size of the filters as we do for Conv2D layers. Additionally, we\n", 
        "must specify a stride of (2,2) because the upsampling is achieved by the stride behavior of the\n", 
        "convolution on the input. Specifying a stride of (2,2) has the effect of spacing out the input.\n", 
        "Specifically, rows and columns of 0.0 values are inserted to achieve the desired stride. In this\n", 
        "example, we will use one filter, with a 1 \u00d7 1 kernel and a stride of 2 \u00d7 2 so that the 2 \u00d7 2 input\n", 
        "image is upsampled to 4 \u00d7 4."
      ], 
      "cell_type": "markdown", 
      "metadata": {}
    }, 
    {
      "source": [
        "# define model\n", 
        "model = Sequential()\n", 
        "model.add(Conv2DTranspose(1, (1,1), strides=(2,2), input_shape=(2, 2, 1)))\n", 
        "# summarize the model\n", 
        "model.summary()"
      ], 
      "cell_type": "code", 
      "execution_count": null, 
      "outputs": [], 
      "metadata": {}
    }, 
    {
      "source": [
        "To make it clear what the Conv2DTranspose layer is doing, we will fix the single weight in\n", 
        "the single filter to the value of 1.0 and use a bias value of 0.0. These weights, along with a\n", 
        "kernel size of (1,1) will mean that values in the input will be multiplied by 1 and output as-is,\n", 
        "and the 0 values in the new rows and columns added via the stride of 2 \u00d7 2 will be output as 0\n", 
        "(e.g. 1 \u00d7 0 in each case)."
      ], 
      "cell_type": "markdown", 
      "metadata": {}
    }, 
    {
      "source": [
        "# define weights that they do nothing\n", 
        "weights = [asarray([[[[1]]]]), asarray([0])]\n", 
        "# store the weights in the model\n", 
        "model.set_weights(weights)\n"
      ], 
      "cell_type": "code", 
      "execution_count": null, 
      "outputs": [], 
      "metadata": {}
    }, 
    {
      "source": [
        "The output will have four dimensions, like the input, therefore, we can convert it back to a\n", 
        "2 \u00d7 2 array to make it easier to review the result."
      ], 
      "cell_type": "markdown", 
      "metadata": {}
    }, 
    {
      "source": [
        "# make a prediction with the model\n", 
        "yhat = model.predict(X)\n", 
        "# reshape output to remove channel to make printing easier\n", 
        "yhat = yhat.reshape((4, 4))\n", 
        "# summarize output\n", 
        "print(yhat)"
      ], 
      "cell_type": "code", 
      "execution_count": null, 
      "outputs": [], 
      "metadata": {}
    }, 
    {
      "source": [
        "Running the example first creates and summarizes our 2 \u00d7 2 input data. Next, the model is\n", 
        "summarized. We can see that it will output a 4 \u00d7 4 result as we expect, and importantly, the\n", 
        "layer two parameters or model weights. One for the single 1\u00d71 filter and one for the bias. Unlike\n", 
        "the UpSampling2D layer, the Conv2DTranspose will learn during training and will attempt to\n", 
        "fill in detail as part of the upsampling process. Finally, the model is used to upsample our input.\n", 
        "We can see that the calculations of the cells that involve real values as input result in the real\n", 
        "value as output (e.g. 1 \u00d7 1, 1 \u00d7 2, etc.). We can see that where new rows and columns have\n", 
        "been inserted by the stride of 2 \u00d7 2, that their 0.0 values multiplied by the 1.0 values in the\n", 
        "single 1 \u00d7 1 filter have resulted in 0 values in the output."
      ], 
      "cell_type": "markdown", 
      "metadata": {}
    }
  ], 
  "metadata": {
    "kernelspec": {
      "display_name": "Python 3", 
      "name": "python3", 
      "language": "python"
    }, 
    "language_info": {
      "mimetype": "text/x-python", 
      "nbconvert_exporter": "python", 
      "name": "python", 
      "file_extension": ".py", 
      "version": "3.6.1", 
      "pygments_lexer": "ipython3", 
      "codemirror_mode": {
        "version": 3, 
        "name": "ipython"
      }
    }, 
    "anaconda-cloud": {}
  }
}