{
  "nbformat_minor": 1, 
  "nbformat": 4, 
  "cells": [
    {
      "source": [
        "## Simple Generator Model With the Conv2DTranspose Layer\n", 
        "The Conv2DTranspose is more complex than the UpSampling2D layer, but it is also effective\n", 
        "when used in GAN models, specifically the generator model. Either approach can be used,\n", 
        "although the Conv2DTranspose layer is preferred, perhaps because of the simpler generator\n", 
        "models and possibly better results, although GAN performance and skill is notoriously difficult\n", 
        "to quantify. We can demonstrate using the Conv2DTranspose layer in a generator model with\n", 
        "another simple example.\n", 
        "\n", 
        "In this case, our little GAN generator model must produce a 10 \u00d7 10 image and take a\n", 
        "100-element vector from the latent space as input, as in the previous UpSampling2D example.\n", 
        "First, a Dense fully connected layer can be used to interpret the input vector and create a\n", 
        "sufficient number of activations (outputs) that can be reshaped into a low-resolution version of\n", 
        "our output image, in this case, 128 versions of a 5 \u00d7 5 image."
      ], 
      "cell_type": "markdown", 
      "metadata": {}
    }, 
    {
      "source": [
        "# example of using transpose conv in a simple generator model\n", 
        "from keras.models import Sequential\n", 
        "from keras.layers import Dense\n", 
        "from keras.layers import Reshape\n", 
        "from keras.layers import Conv2DTranspose\n", 
        "# define model\n", 
        "model = Sequential()\n", 
        "# define input shape, output enough activations for for 128 5x5 image\n", 
        "model.add(Dense(128 * 5 * 5, input_dim=100))\n", 
        "# reshape vector of activations into 128 feature maps with 5x5\n", 
        "model.add(Reshape((5, 5, 128)))\n", 
        "# double input from 128 5x5 to 1 10x10 feature map\n", 
        "model.add(Conv2DTranspose(1, (3,3), strides=(2,2), padding='same'))\n", 
        "# summarize model\n", 
        "model.summary()"
      ], 
      "cell_type": "code", 
      "execution_count": null, 
      "outputs": [], 
      "metadata": {}
    }, 
    {
      "source": [
        "Running the example creates the model and summarizes the output shape of each layer.\n", 
        "We can see that the Dense layer outputs 3,200 activations that are then reshaped into 128\n", 
        "feature maps with the shape 5 \u00d7 5. The widths and heights are doubled to 10 \u00d7 10 by the\n", 
        "Conv2DTranspose layer resulting in a single feature map with quadruple the area."
      ], 
      "cell_type": "markdown", 
      "metadata": {}
    }
  ], 
  "metadata": {
    "kernelspec": {
      "display_name": "Python 3", 
      "name": "python3", 
      "language": "python"
    }, 
    "language_info": {
      "mimetype": "text/x-python", 
      "nbconvert_exporter": "python", 
      "name": "python", 
      "file_extension": ".py", 
      "version": "3.6.1", 
      "pygments_lexer": "ipython3", 
      "codemirror_mode": {
        "version": 3, 
        "name": "ipython"
      }
    }, 
    "anaconda-cloud": {}
  }
}