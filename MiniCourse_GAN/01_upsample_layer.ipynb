{
  "nbformat_minor": 1, 
  "nbformat": 4, 
  "cells": [
    {
      "source": [
        "## Worked Example Using the UpSampling2D Layer\n", 
        "The Keras deep learning library provides this capability in a layer called UpSampling2D. It can\n", 
        "be added to a convolutional neural network and repeats the rows and columns provided as input\n", 
        "in the output. "
      ], 
      "cell_type": "markdown", 
      "metadata": {}
    }, 
    {
      "source": [
        "# example of using the upsampling layer\n", 
        "from numpy import asarray\n", 
        "from keras.models import Sequential\n", 
        "from keras.layers import UpSampling2D"
      ], 
      "cell_type": "code", 
      "execution_count": null, 
      "outputs": [], 
      "metadata": {}
    }, 
    {
      "source": [
        "We can demonstrate the behavior of this layer with a simple contrived example. First, we\n", 
        "can define a contrived input image that is 2 \u00d7 2 pixels. We can use specific values for each pixel\n", 
        "so that after upsampling, we can see exactly what effect the operation had on the input.\n", 
        "\n", 
        "Once the image is defined, we must add a channel dimension (e.g. grayscale) and also a\n", 
        "sample dimension (e.g. we have 1 sample) so that we can pass it as input to the model. The\n", 
        "data dimensions in order are: samples, rows, columns, and channels."
      ], 
      "cell_type": "markdown", 
      "metadata": {}
    }, 
    {
      "source": [
        "# define input data\n", 
        "X = asarray([[1, 2],\n", 
        "\t\t\t [3, 4]])\n", 
        "# show input data for context\n", 
        "print(X)\n", 
        "# reshape input data into one sample a sample with a channel\n", 
        "X = X.reshape((1, 2, 2, 1))\n", 
        "# define model\n", 
        "model = Sequential()\n", 
        "model.add(UpSampling2D(input_shape=(2, 2, 1)))\n", 
        "# summarize the model\n", 
        "model.summary()"
      ], 
      "cell_type": "code", 
      "execution_count": null, 
      "outputs": [], 
      "metadata": {}
    }, 
    {
      "source": [
        "We can then use the model to make a prediction, that is upsample a provided input image.\n", 
        "\n", 
        "The output will have four dimensions, like the input, therefore, we can convert it back to a\n", 
        "2 \u00d7 2 array to make it easier to review the result."
      ], 
      "cell_type": "markdown", 
      "metadata": {}
    }, 
    {
      "source": [
        "# make a prediction with the model\n", 
        "yhat = model.predict(X)\n", 
        "# reshape output to remove channel to make printing easier\n", 
        "yhat = yhat.reshape((4, 4))\n", 
        "# summarize output\n", 
        "print(yhat)"
      ], 
      "cell_type": "code", 
      "execution_count": null, 
      "outputs": [], 
      "metadata": {}
    }, 
    {
      "source": [
        "Running the example first creates and summarizes our 2 \u00d7 2 input data. Next, the model is\n", 
        "summarized. We can see that it will output a 4 \u00d7 4 result as we expect, and importantly, the\n", 
        "layer has no parameters or model weights. This is because it is not learning anything; it is just\n", 
        "doubling the input. Finally, the model is used to upsample our input, resulting in a doubling of\n", 
        "each row and column for our input data, as we expected"
      ], 
      "cell_type": "markdown", 
      "metadata": {}
    }
  ], 
  "metadata": {
    "kernelspec": {
      "display_name": "Python 3", 
      "name": "python3", 
      "language": "python"
    }, 
    "language_info": {
      "mimetype": "text/x-python", 
      "nbconvert_exporter": "python", 
      "name": "python", 
      "file_extension": ".py", 
      "version": "3.6.1", 
      "pygments_lexer": "ipython3", 
      "codemirror_mode": {
        "version": 3, 
        "name": "ipython"
      }
    }, 
    "anaconda-cloud": {}
  }
}