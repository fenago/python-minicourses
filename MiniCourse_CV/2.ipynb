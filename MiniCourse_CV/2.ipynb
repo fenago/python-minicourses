{
  "nbformat_minor": 1, 
  "nbformat": 4, 
  "cells": [
    {
      "source": [
        "# cnn with single convolutional, pooling and output layer\n", 
        "from keras.models import Sequential\n", 
        "from keras.layers import Conv2D\n", 
        "from keras.layers import MaxPooling2D\n", 
        "from keras.layers import Flatten\n", 
        "from keras.layers import Dense\n", 
        "\n", 
        "# create model\n", 
        "model = Sequential()\n", 
        "# add convolutional layer\n", 
        "model.add(Conv2D(32, (3,3), input_shape=(256, 256, 1)))\n", 
        "model.add(MaxPooling2D())\n", 
        "model.add(Flatten())\n", 
        "model.add(Dense(1, activation='sigmoid'))\n", 
        "model.summary()\n"
      ], 
      "cell_type": "code", 
      "execution_count": null, 
      "outputs": [], 
      "metadata": {}
    }
  ], 
  "metadata": {
    "kernelspec": {
      "display_name": "Python 3", 
      "name": "python3", 
      "language": "python"
    }, 
    "language_info": {
      "mimetype": "text/x-python", 
      "nbconvert_exporter": "python", 
      "name": "python", 
      "file_extension": ".py", 
      "version": "3.6.1", 
      "pygments_lexer": "ipython3", 
      "codemirror_mode": {
        "version": 3, 
        "name": "ipython"
      }
    }, 
    "anaconda-cloud": {}
  }
}