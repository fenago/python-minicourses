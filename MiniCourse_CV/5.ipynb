{
  "nbformat_minor": 1, 
  "nbformat": 4, 
  "cells": [
    {
      "source": [
        "# example using image augmentation\n", 
        "from numpy import expand_dims\n", 
        "from keras.preprocessing.image import load_img\n", 
        "from keras.preprocessing.image import img_to_array\n", 
        "from keras.preprocessing.image import ImageDataGenerator\n", 
        "%matplotlib inline\n", 
        "from matplotlib import pyplot\n", 
        "# load the image\n", 
        "img = load_img('bird.jpg')\n", 
        "# convert to numpy array\n", 
        "data = img_to_array(img)\n", 
        "# expand dimension to one sample\n", 
        "samples = expand_dims(data, 0)\n", 
        "# create image data augmentation generator\n", 
        "datagen = ImageDataGenerator(horizontal_flip=True, vertical_flip=True, rotation_range=90)\n", 
        "# prepare iterator\n", 
        "it = datagen.flow(samples, batch_size=1)\n", 
        "# generate samples and plot\n", 
        "for i in range(9):\n", 
        "   # define subplot\n", 
        "   pyplot.subplot(330 + 1 + i)\n", 
        "   # generate batch of images\n", 
        "   batch = it.next()\n", 
        "   # convert to unsigned integers for viewing\n", 
        "   image = batch[0].astype('uint8')\n", 
        "   # plot raw pixel data\n", 
        "   pyplot.imshow(image)\n", 
        "# show the figure\n", 
        "pyplot.show()"
      ], 
      "cell_type": "code", 
      "execution_count": null, 
      "outputs": [], 
      "metadata": {}
    }
  ], 
  "metadata": {
    "kernelspec": {
      "display_name": "Python 3", 
      "name": "python3", 
      "language": "python"
    }, 
    "language_info": {
      "mimetype": "text/x-python", 
      "nbconvert_exporter": "python", 
      "name": "python", 
      "file_extension": ".py", 
      "version": "3.6.1", 
      "pygments_lexer": "ipython3", 
      "codemirror_mode": {
        "version": 3, 
        "name": "ipython"
      }
    }, 
    "anaconda-cloud": {}
  }
}