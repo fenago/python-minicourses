{
  "nbformat_minor": 1, 
  "nbformat": 4, 
  "cells": [
    {
      "source": [
        "# multi-step encoder-decoder lstm example\n", 
        "from numpy import array\n", 
        "from keras.models import Sequential\n", 
        "from keras.layers import LSTM\n", 
        "from keras.layers import Dense\n", 
        "from keras.layers import RepeatVector\n", 
        "from keras.layers import TimeDistributed\n", 
        "# define dataset\n", 
        "X = array([[10, 20, 30], [20, 30, 40], [30, 40, 50], [40, 50, 60]])\n", 
        "y = array([[40,50],[50,60],[60,70],[70,80]])\n", 
        "# reshape from [samples, timesteps] into [samples, timesteps, features]\n", 
        "X = X.reshape((X.shape[0], X.shape[1], 1))\n", 
        "y = y.reshape((y.shape[0], y.shape[1], 1))\n", 
        "# define model\n", 
        "model = Sequential()\n", 
        "model.add(LSTM(100, activation='relu', input_shape=(3, 1)))\n", 
        "model.add(RepeatVector(2))\n", 
        "model.add(LSTM(100, activation='relu', return_sequences=True))\n", 
        "model.add(TimeDistributed(Dense(1)))\n", 
        "model.compile(optimizer='adam', loss='mse')\n", 
        "# fit model\n", 
        "model.fit(X, y, epochs=100, verbose=0)\n", 
        "# demonstrate prediction\n", 
        "x_input = array([50, 60, 70])\n", 
        "x_input = x_input.reshape((1, 3, 1))\n", 
        "yhat = model.predict(x_input, verbose=0)\n", 
        "print(yhat)"
      ], 
      "cell_type": "code", 
      "execution_count": null, 
      "outputs": [], 
      "metadata": {}
    }
  ], 
  "metadata": {
    "kernelspec": {
      "display_name": "Python 3", 
      "name": "python3", 
      "language": "python"
    }, 
    "language_info": {
      "mimetype": "text/x-python", 
      "nbconvert_exporter": "python", 
      "name": "python", 
      "file_extension": ".py", 
      "version": "3.6.1", 
      "pygments_lexer": "ipython3", 
      "codemirror_mode": {
        "version": 3, 
        "name": "ipython"
      }
    }, 
    "anaconda-cloud": {}
  }
}