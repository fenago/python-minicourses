{
  "nbformat_minor": 1, 
  "nbformat": 4, 
  "cells": [
    {
      "source": [
        "# face detection with mtcnn on a photograph\n", 
        "# %notebook inline\n", 
        "from matplotlib import pyplot\n", 
        "from matplotlib.patches import Rectangle\n", 
        "from mtcnn.mtcnn import MTCNN\n", 
        "# load image from file\n", 
        "pixels = pyplot.imread('street.jpg')\n", 
        "# create the detector, using default weights\n", 
        "detector = MTCNN()\n", 
        "# detect faces in the image\n", 
        "faces = detector.detect_faces(pixels)\n", 
        "# plot the image\n", 
        "pyplot.imshow(pixels)\n", 
        "# get the context for drawing boxes\n", 
        "ax = pyplot.gca()\n", 
        "# get coordinates from the first face\n", 
        "x, y, width, height = faces[0]['box']\n", 
        "\n", 
        "# create the shape\n", 
        "rect = Rectangle((x, y), width, height, fill=False, color='red')\n", 
        "# draw the box\n", 
        "ax.add_patch(rect)\n", 
        "# show the plot\n", 
        "pyplot.show()"
      ], 
      "cell_type": "code", 
      "execution_count": null, 
      "outputs": [], 
      "metadata": {}
    }
  ], 
  "metadata": {
    "kernelspec": {
      "display_name": "Python 3", 
      "name": "python3", 
      "language": "python"
    }, 
    "language_info": {
      "mimetype": "text/x-python", 
      "nbconvert_exporter": "python", 
      "name": "python", 
      "file_extension": ".py", 
      "version": "3.6.1", 
      "pygments_lexer": "ipython3", 
      "codemirror_mode": {
        "version": 3, 
        "name": "ipython"
      }
    }, 
    "anaconda-cloud": {}
  }
}