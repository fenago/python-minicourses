{
  "nbformat_minor": 1, 
  "nbformat": 4, 
  "cells": [
    {
      "source": [
        "# example of pixel normalization\n", 
        "from numpy import asarray\n", 
        "from PIL import Image\n", 
        "# load image\n", 
        "image = Image.open('bondi_beach.jpg')\n", 
        "pixels = asarray(image)\n", 
        "# confirm pixel range is 0-255\n", 
        "print('Data Type: %s' % pixels.dtype)\n", 
        "print('Min: %.3f, Max: %.3f' % (pixels.min(), pixels.max()))\n", 
        "# convert from integers to floats\n", 
        "pixels = pixels.astype('float32')\n", 
        "# normalize to the range 0-1\n", 
        "pixels /= 255.0\n", 
        "# confirm the normalization\n", 
        "print('Min: %.3f, Max: %.3f' % (pixels.min(), pixels.max()))"
      ], 
      "cell_type": "code", 
      "execution_count": null, 
      "outputs": [], 
      "metadata": {}
    }
  ], 
  "metadata": {
    "kernelspec": {
      "display_name": "Python 3", 
      "name": "python3", 
      "language": "python"
    }, 
    "language_info": {
      "mimetype": "text/x-python", 
      "nbconvert_exporter": "python", 
      "name": "python", 
      "file_extension": ".py", 
      "version": "3.6.1", 
      "pygments_lexer": "ipython3", 
      "codemirror_mode": {
        "version": 3, 
        "name": "ipython"
      }
    }, 
    "anaconda-cloud": {}
  }
}