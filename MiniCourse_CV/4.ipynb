{
  "nbformat_minor": 1, 
  "nbformat": 4, 
  "cells": [
    {
      "source": [
        "# fit a cnn on the fashion mnist dataset\n", 
        "from keras.datasets import fashion_mnist\n", 
        "from keras.utils import to_categorical\n", 
        "from keras.models import Sequential\n", 
        "from keras.layers import Conv2D\n", 
        "from keras.layers import MaxPooling2D\n", 
        "from keras.layers import Dense\n", 
        "from keras.layers import Flatten\n", 
        "import tensorflow.python.util.deprecation as deprecation\n", 
        "deprecation._PRINT_DEPRECATION_WARNINGS = False\n", 
        "\n", 
        "# load dataset\n", 
        "(trainX, trainY), (testX, testY) = fashion_mnist.load_data()\n", 
        "# reshape dataset to have a single channel\n", 
        "trainX = trainX.reshape((trainX.shape[0], 28, 28, 1))\n", 
        "testX = testX.reshape((testX.shape[0], 28, 28, 1))\n", 
        "# convert from integers to floats\n", 
        "trainX, testX = trainX.astype('float32'), testX.astype('float32')\n", 
        "# normalize to range 0-1\n", 
        "trainX,testX = trainX / 255.0, testX / 255.0\n", 
        "# one hot encode target values\n", 
        "trainY, testY = to_categorical(trainY), to_categorical(testY)\n", 
        "# define model\n", 
        "model = Sequential()\n", 
        "model.add(Conv2D(32, (3, 3), activation='relu', kernel_initializer='he_uniform',\n", 
        "input_shape=(28, 28, 1)))\n", 
        "model.add(MaxPooling2D())\n", 
        "model.add(Flatten())\n", 
        "model.add(Dense(100, activation='relu', kernel_initializer='he_uniform'))\n", 
        "model.add(Dense(10, activation='softmax'))\n", 
        "model.compile(optimizer='adam', loss='categorical_crossentropy', metrics=['accuracy'])\n", 
        "# fit model\n", 
        "model.fit(trainX, trainY, epochs=10, batch_size=32, verbose=2)\n", 
        "# evaluate model\n", 
        "loss, acc = model.evaluate(testX, testY, verbose=0)\n", 
        "\n", 
        "print(loss, acc)\n"
      ], 
      "cell_type": "code", 
      "execution_count": null, 
      "outputs": [], 
      "metadata": {}
    }
  ], 
  "metadata": {
    "kernelspec": {
      "display_name": "Python 3", 
      "name": "python3", 
      "language": "python"
    }, 
    "language_info": {
      "mimetype": "text/x-python", 
      "nbconvert_exporter": "python", 
      "name": "python", 
      "file_extension": ".py", 
      "version": "3.6.1", 
      "pygments_lexer": "ipython3", 
      "codemirror_mode": {
        "version": 3, 
        "name": "ipython"
      }
    }, 
    "anaconda-cloud": {}
  }
}