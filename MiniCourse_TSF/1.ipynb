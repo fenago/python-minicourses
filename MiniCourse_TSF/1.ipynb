{
  "nbformat_minor": 1, 
  "nbformat": 4, 
  "cells": [
    {
      "source": [
        "# univariate mlp example\n", 
        "from numpy import array\n", 
        "from keras.models import Sequential\n", 
        "from keras.layers import Dense\n", 
        "import tensorflow.python.util.deprecation as deprecation\n", 
        "deprecation._PRINT_DEPRECATION_WARNINGS = False\n", 
        "# define dataset\n", 
        "X = array([[10, 20, 30], [20, 30, 40], [30, 40, 50], [40, 50, 60]])\n", 
        "y = array([40, 50, 60, 70])\n", 
        "# define model\n", 
        "model = Sequential()\n", 
        "model.add(Dense(100, activation='relu', input_dim=3))\n", 
        "model.add(Dense(1))\n", 
        "model.compile(optimizer='adam', loss='mse')\n", 
        "# fit model\n", 
        "model.fit(X, y, epochs=2000, verbose=0)\n", 
        "# demonstrate prediction\n", 
        "x_input = array([50, 60, 70])\n", 
        "x_input = x_input.reshape((1, 3))\n", 
        "yhat = model.predict(x_input, verbose=0)\n", 
        "print(yhat)"
      ], 
      "cell_type": "code", 
      "execution_count": null, 
      "outputs": [], 
      "metadata": {}
    }
  ], 
  "metadata": {
    "kernelspec": {
      "display_name": "Python 3", 
      "name": "python3", 
      "language": "python"
    }, 
    "language_info": {
      "mimetype": "text/x-python", 
      "nbconvert_exporter": "python", 
      "name": "python", 
      "file_extension": ".py", 
      "version": "3.6.1", 
      "pygments_lexer": "ipython3", 
      "codemirror_mode": {
        "version": 3, 
        "name": "ipython"
      }
    }, 
    "anaconda-cloud": {}
  }
}