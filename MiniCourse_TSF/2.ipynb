{
  "nbformat_minor": 1, 
  "nbformat": 4, 
  "cells": [
    {
      "source": [
        "# univariate cnn example\n", 
        "from numpy import array\n", 
        "from keras.models import Sequential\n", 
        "from keras.layers import Dense\n", 
        "import tensorflow.python.util.deprecation as deprecation\n", 
        "deprecation._PRINT_DEPRECATION_WARNINGS = False\n", 
        "from keras.layers import Flatten\n", 
        "from keras.layers.convolutional import Conv1D\n", 
        "from keras.layers.convolutional import MaxPooling1D\n", 
        "# define dataset\n", 
        "X = array([[10, 20, 30], [20, 30, 40], [30, 40, 50], [40, 50, 60]])\n", 
        "y = array([40, 50, 60, 70])\n", 
        "# reshape from [samples, timesteps] into [samples, timesteps, features]\n", 
        "X = X.reshape((X.shape[0], X.shape[1], 1))\n", 
        "# define model\n", 
        "model = Sequential()\n", 
        "model.add(Conv1D(filters=64, kernel_size=2, activation='relu', input_shape=(3, 1)))\n", 
        "model.add(MaxPooling1D(pool_size=2))\n", 
        "model.add(Flatten())\n", 
        "model.add(Dense(50, activation='relu'))\n", 
        "model.add(Dense(1))\n", 
        "model.compile(optimizer='adam', loss='mse')\n", 
        "# fit model\n", 
        "model.fit(X, y, epochs=1000, verbose=0)\n", 
        "# demonstrate prediction\n", 
        "x_input = array([50, 60, 70])\n", 
        "x_input = x_input.reshape((1, 3, 1))\n", 
        "yhat = model.predict(x_input, verbose=0)\n", 
        "print(yhat)"
      ], 
      "cell_type": "code", 
      "execution_count": null, 
      "outputs": [], 
      "metadata": {}
    }
  ], 
  "metadata": {
    "kernelspec": {
      "display_name": "Python 3", 
      "name": "python3", 
      "language": "python"
    }, 
    "language_info": {
      "mimetype": "text/x-python", 
      "nbconvert_exporter": "python", 
      "name": "python", 
      "file_extension": ".py", 
      "version": "3.6.1", 
      "pygments_lexer": "ipython3", 
      "codemirror_mode": {
        "version": 3, 
        "name": "ipython"
      }
    }, 
    "anaconda-cloud": {}
  }
}